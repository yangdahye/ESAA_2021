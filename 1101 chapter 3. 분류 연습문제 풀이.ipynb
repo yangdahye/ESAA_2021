{
 "cells": [
  {
   "cell_type": "markdown",
   "metadata": {},
   "source": [
    "### 3.8 연습문제"
   ]
  },
  {
   "cell_type": "code",
   "execution_count": 1,
   "metadata": {},
   "outputs": [],
   "source": [
    "import numpy as np\n",
    "%matplotlib inline\n",
    "import matplotlib as mpl\n",
    "import matplotlib.pyplot as plt"
   ]
  },
  {
   "cell_type": "code",
   "execution_count": 2,
   "metadata": {},
   "outputs": [],
   "source": [
    "from sklearn.datasets import fetch_openml\n",
    "mnist = fetch_openml('mnist_784', version=1, as_frame=False)"
   ]
  },
  {
   "cell_type": "code",
   "execution_count": 3,
   "metadata": {},
   "outputs": [],
   "source": [
    "X, y = mnist[\"data\"], mnist[\"target\"]"
   ]
  },
  {
   "cell_type": "code",
   "execution_count": 4,
   "metadata": {},
   "outputs": [],
   "source": [
    "X_train, X_test, y_train, y_test = X[:60000], X[60000:], y[:60000], y[60000:]"
   ]
  },
  {
   "cell_type": "markdown",
   "metadata": {},
   "source": [
    "### 1번"
   ]
  },
  {
   "cell_type": "code",
   "execution_count": 88,
   "metadata": {
    "execution": {
     "iopub.execute_input": "2021-10-23T11:38:35.384646Z",
     "iopub.status.busy": "2021-10-23T11:38:35.383479Z",
     "iopub.status.idle": "2021-10-23T11:47:26.150840Z",
     "shell.execute_reply": "2021-10-23T11:47:26.150249Z"
    }
   },
   "outputs": [
    {
     "name": "stdout",
     "output_type": "stream",
     "text": [
      "Fitting 5 folds for each of 6 candidates, totalling 30 fits\n",
      "[CV 1/5] END ....n_neighbors=3, weights=uniform;, score=0.972 total time=  21.0s\n",
      "[CV 2/5] END ....n_neighbors=3, weights=uniform;, score=0.971 total time=  20.8s\n",
      "[CV 3/5] END ....n_neighbors=3, weights=uniform;, score=0.969 total time=  20.7s\n",
      "[CV 4/5] END ....n_neighbors=3, weights=uniform;, score=0.969 total time=  21.0s\n",
      "[CV 5/5] END ....n_neighbors=3, weights=uniform;, score=0.970 total time=  21.1s\n",
      "[CV 1/5] END ...n_neighbors=3, weights=distance;, score=0.972 total time=  21.6s\n",
      "[CV 2/5] END ...n_neighbors=3, weights=distance;, score=0.972 total time=  20.8s\n",
      "[CV 3/5] END ...n_neighbors=3, weights=distance;, score=0.970 total time=  20.6s\n",
      "[CV 4/5] END ...n_neighbors=3, weights=distance;, score=0.970 total time=  20.3s\n",
      "[CV 5/5] END ...n_neighbors=3, weights=distance;, score=0.971 total time=  20.3s\n",
      "[CV 1/5] END ....n_neighbors=4, weights=uniform;, score=0.969 total time=  24.4s\n",
      "[CV 2/5] END ....n_neighbors=4, weights=uniform;, score=0.968 total time=  24.5s\n",
      "[CV 3/5] END ....n_neighbors=4, weights=uniform;, score=0.968 total time=  24.2s\n",
      "[CV 4/5] END ....n_neighbors=4, weights=uniform;, score=0.967 total time=  24.7s\n",
      "[CV 5/5] END ....n_neighbors=4, weights=uniform;, score=0.970 total time=  24.4s\n",
      "[CV 1/5] END ...n_neighbors=4, weights=distance;, score=0.973 total time=  24.0s\n",
      "[CV 2/5] END ...n_neighbors=4, weights=distance;, score=0.972 total time=  24.0s\n",
      "[CV 3/5] END ...n_neighbors=4, weights=distance;, score=0.970 total time=  23.7s\n",
      "[CV 4/5] END ...n_neighbors=4, weights=distance;, score=0.971 total time=  24.4s\n",
      "[CV 5/5] END ...n_neighbors=4, weights=distance;, score=0.972 total time=  24.1s\n",
      "[CV 1/5] END ....n_neighbors=5, weights=uniform;, score=0.970 total time=  23.9s\n",
      "[CV 2/5] END ....n_neighbors=5, weights=uniform;, score=0.970 total time=  24.6s\n",
      "[CV 3/5] END ....n_neighbors=5, weights=uniform;, score=0.969 total time=  24.4s\n",
      "[CV 4/5] END ....n_neighbors=5, weights=uniform;, score=0.968 total time=  24.4s\n",
      "[CV 5/5] END ....n_neighbors=5, weights=uniform;, score=0.969 total time=  24.9s\n",
      "[CV 1/5] END ...n_neighbors=5, weights=distance;, score=0.970 total time=  24.1s\n",
      "[CV 2/5] END ...n_neighbors=5, weights=distance;, score=0.971 total time=  24.1s\n",
      "[CV 3/5] END ...n_neighbors=5, weights=distance;, score=0.970 total time=  24.3s\n",
      "[CV 4/5] END ...n_neighbors=5, weights=distance;, score=0.969 total time=  24.3s\n",
      "[CV 5/5] END ...n_neighbors=5, weights=distance;, score=0.971 total time=  24.6s\n"
     ]
    },
    {
     "data": {
      "text/plain": [
       "GridSearchCV(cv=5, estimator=KNeighborsClassifier(),\n",
       "             param_grid=[{'n_neighbors': [3, 4, 5],\n",
       "                          'weights': ['uniform', 'distance']}],\n",
       "             verbose=3)"
      ]
     },
     "execution_count": 88,
     "metadata": {},
     "output_type": "execute_result"
    }
   ],
   "source": [
    "from sklearn.model_selection import GridSearchCV\n",
    "\n",
    "param_grid = [{'weights': [\"uniform\", \"distance\"], 'n_neighbors': [3, 4, 5]}]\n",
    "\n",
    "knn_clf = KNeighborsClassifier()\n",
    "grid_search = GridSearchCV(knn_clf, param_grid, cv=5, verbose=3)\n",
    "grid_search.fit(X_train, y_train)"
   ]
  },
  {
   "cell_type": "code",
   "execution_count": 89,
   "metadata": {
    "execution": {
     "iopub.execute_input": "2021-10-23T11:47:26.156446Z",
     "iopub.status.busy": "2021-10-23T11:47:26.155748Z",
     "iopub.status.idle": "2021-10-23T11:47:26.158950Z",
     "shell.execute_reply": "2021-10-23T11:47:26.159372Z"
    }
   },
   "outputs": [
    {
     "data": {
      "text/plain": [
       "{'n_neighbors': 4, 'weights': 'distance'}"
      ]
     },
     "execution_count": 89,
     "metadata": {},
     "output_type": "execute_result"
    }
   ],
   "source": [
    "grid_search.best_params_"
   ]
  },
  {
   "cell_type": "code",
   "execution_count": 90,
   "metadata": {
    "execution": {
     "iopub.execute_input": "2021-10-23T11:47:26.164669Z",
     "iopub.status.busy": "2021-10-23T11:47:26.163810Z",
     "iopub.status.idle": "2021-10-23T11:47:26.167222Z",
     "shell.execute_reply": "2021-10-23T11:47:26.167652Z"
    }
   },
   "outputs": [
    {
     "data": {
      "text/plain": [
       "0.9716166666666666"
      ]
     },
     "execution_count": 90,
     "metadata": {},
     "output_type": "execute_result"
    }
   ],
   "source": [
    "grid_search.best_score_"
   ]
  },
  {
   "cell_type": "code",
   "execution_count": 91,
   "metadata": {
    "execution": {
     "iopub.execute_input": "2021-10-23T11:47:26.172769Z",
     "iopub.status.busy": "2021-10-23T11:47:26.172103Z",
     "iopub.status.idle": "2021-10-23T11:47:44.660387Z",
     "shell.execute_reply": "2021-10-23T11:47:44.660849Z"
    }
   },
   "outputs": [
    {
     "data": {
      "text/plain": [
       "0.9714"
      ]
     },
     "execution_count": 91,
     "metadata": {},
     "output_type": "execute_result"
    }
   ],
   "source": [
    "from sklearn.metrics import accuracy_score\n",
    "\n",
    "y_pred = grid_search.predict(X_test)\n",
    "accuracy_score(y_test, y_pred)"
   ]
  },
  {
   "cell_type": "markdown",
   "metadata": {},
   "source": [
    "### 2번"
   ]
  },
  {
   "cell_type": "code",
   "execution_count": 5,
   "metadata": {
    "execution": {
     "iopub.execute_input": "2021-10-23T11:47:44.665091Z",
     "iopub.status.busy": "2021-10-23T11:47:44.664417Z",
     "iopub.status.idle": "2021-10-23T11:47:44.667144Z",
     "shell.execute_reply": "2021-10-23T11:47:44.666542Z"
    }
   },
   "outputs": [],
   "source": [
    "from scipy.ndimage.interpolation import shift"
   ]
  },
  {
   "cell_type": "code",
   "execution_count": 6,
   "metadata": {
    "execution": {
     "iopub.execute_input": "2021-10-23T11:47:44.672056Z",
     "iopub.status.busy": "2021-10-23T11:47:44.671412Z",
     "iopub.status.idle": "2021-10-23T11:47:44.672889Z",
     "shell.execute_reply": "2021-10-23T11:47:44.673327Z"
    }
   },
   "outputs": [],
   "source": [
    "def shift_image(image, dx, dy):\n",
    "    image = image.reshape((28, 28))\n",
    "    shifted_image = shift(image, [dy, dx], cval=0, mode=\"constant\")\n",
    "    return shifted_image.reshape([-1])"
   ]
  },
  {
   "cell_type": "code",
   "execution_count": 7,
   "metadata": {
    "execution": {
     "iopub.execute_input": "2021-10-23T11:47:44.676595Z",
     "iopub.status.busy": "2021-10-23T11:47:44.675983Z",
     "iopub.status.idle": "2021-10-23T11:47:45.009777Z",
     "shell.execute_reply": "2021-10-23T11:47:45.009167Z"
    }
   },
   "outputs": [
    {
     "data": {
      "image/png": "[encoded data removed]",
      "text/plain": [
       "<Figure size 864x216 with 3 Axes>"
      ]
     },
     "metadata": {
      "needs_background": "light"
     },
     "output_type": "display_data"
    }
   ],
   "source": [
    "image = X_train[1000]\n",
    "shifted_image_down = shift_image(image, 0, 5)\n",
    "shifted_image_left = shift_image(image, -5, 0)\n",
    "\n",
    "plt.figure(figsize=(12,3))\n",
    "plt.subplot(131)\n",
    "plt.title(\"Original\", fontsize=14)\n",
    "plt.imshow(image.reshape(28, 28), interpolation=\"nearest\", cmap=\"Greys\")\n",
    "plt.subplot(132)\n",
    "plt.title(\"Shifted down\", fontsize=14)\n",
    "plt.imshow(shifted_image_down.reshape(28, 28), interpolation=\"nearest\", cmap=\"Greys\")\n",
    "plt.subplot(133)\n",
    "plt.title(\"Shifted left\", fontsize=14)\n",
    "plt.imshow(shifted_image_left.reshape(28, 28), interpolation=\"nearest\", cmap=\"Greys\")\n",
    "plt.show()"
   ]
  },
  {
   "cell_type": "code",
   "execution_count": 8,
   "metadata": {
    "execution": {
     "iopub.execute_input": "2021-10-23T11:47:45.029703Z",
     "iopub.status.busy": "2021-10-23T11:47:45.029024Z",
     "iopub.status.idle": "2021-10-23T11:48:20.711425Z",
     "shell.execute_reply": "2021-10-23T11:48:20.710608Z"
    }
   },
   "outputs": [],
   "source": [
    "X_train_augmented = [image for image in X_train]\n",
    "y_train_augmented = [label for label in y_train]\n",
    "\n",
    "for dx, dy in ((1, 0), (-1, 0), (0, 1), (0, -1)):\n",
    "    for image, label in zip(X_train, y_train):\n",
    "        X_train_augmented.append(shift_image(image, dx, dy))\n",
    "        y_train_augmented.append(label)\n",
    "\n",
    "X_train_augmented = np.array(X_train_augmented)\n",
    "y_train_augmented = np.array(y_train_augmented)"
   ]
  },
  {
   "cell_type": "code",
   "execution_count": 96,
   "metadata": {
    "execution": {
     "iopub.execute_input": "2021-10-23T11:48:20.716561Z",
     "iopub.status.busy": "2021-10-23T11:48:20.715838Z",
     "iopub.status.idle": "2021-10-23T11:48:21.587524Z",
     "shell.execute_reply": "2021-10-23T11:48:21.586727Z"
    }
   },
   "outputs": [],
   "source": [
    "shuffle_idx = np.random.permutation(len(X_train_augmented))\n",
    "X_train_augmented = X_train_augmented[shuffle_idx]\n",
    "y_train_augmented = y_train_augmented[shuffle_idx]"
   ]
  },
  {
   "cell_type": "code",
   "execution_count": 97,
   "metadata": {
    "execution": {
     "iopub.execute_input": "2021-10-23T11:48:21.592286Z",
     "iopub.status.busy": "2021-10-23T11:48:21.591481Z",
     "iopub.status.idle": "2021-10-23T11:48:21.594100Z",
     "shell.execute_reply": "2021-10-23T11:48:21.593590Z"
    }
   },
   "outputs": [],
   "source": [
    "knn_clf = KNeighborsClassifier(**grid_search.best_params_)"
   ]
  },
  {
   "cell_type": "code",
   "execution_count": 98,
   "metadata": {
    "execution": {
     "iopub.execute_input": "2021-10-23T11:48:21.598276Z",
     "iopub.status.busy": "2021-10-23T11:48:21.597658Z",
     "iopub.status.idle": "2021-10-23T11:48:21.785369Z",
     "shell.execute_reply": "2021-10-23T11:48:21.785801Z"
    }
   },
   "outputs": [
    {
     "data": {
      "text/plain": [
       "KNeighborsClassifier(n_neighbors=4, weights='distance')"
      ]
     },
     "execution_count": 98,
     "metadata": {},
     "output_type": "execute_result"
    }
   ],
   "source": [
    "knn_clf.fit(X_train_augmented, y_train_augmented)"
   ]
  },
  {
   "cell_type": "code",
   "execution_count": 99,
   "metadata": {
    "execution": {
     "iopub.execute_input": "2021-10-23T11:48:21.790462Z",
     "iopub.status.busy": "2021-10-23T11:48:21.789803Z",
     "iopub.status.idle": "2021-10-23T11:50:48.702513Z",
     "shell.execute_reply": "2021-10-23T11:50:48.703694Z"
    }
   },
   "outputs": [
    {
     "data": {
      "text/plain": [
       "0.9763"
      ]
     },
     "execution_count": 99,
     "metadata": {},
     "output_type": "execute_result"
    }
   ],
   "source": [
    "y_pred = knn_clf.predict(X_test)\n",
    "accuracy_score(y_test, y_pred)"
   ]
  }
 ],
 "metadata": {
  "kernelspec": {
   "display_name": "Python 3",
   "language": "python",
   "name": "python3"
  },
  "language_info": {
   "codemirror_mode": {
    "name": "ipython",
    "version": 3
   },
   "file_extension": ".py",
   "mimetype": "text/x-python",
   "name": "python",
   "nbconvert_exporter": "python",
   "pygments_lexer": "ipython3",
   "version": "3.8.3"
  },
  "nav_menu": {},
  "toc": {
   "navigate_menu": true,
   "number_sections": true,
   "sideBar": true,
   "threshold": 6,
   "toc_cell": false,
   "toc_section_display": "block",
   "toc_window_display": false
  }
 },
 "nbformat": 4,
 "nbformat_minor": 1
}
