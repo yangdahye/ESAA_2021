{
 "cells": [
  {
   "cell_type": "markdown",
   "metadata": {},
   "source": [
    "# [NLP Preprocessing]"
   ]
  },
  {
   "cell_type": "markdown",
   "metadata": {},
   "source": [
    "### 1. 형태소 분석 (Stemming)"
   ]
  },
  {
   "cell_type": "markdown",
   "metadata": {},
   "source": [
    "### 1-1. KKma()"
   ]
  },
  {
   "cell_type": "code",
   "execution_count": 3,
   "metadata": {},
   "outputs": [
    {
     "name": "stdout",
     "output_type": "stream",
     "text": [
      "형태소 단위로 문장 분리\n",
      "----------------------\n",
      "['데이', '콘', '에서', '다양', '하', 'ㄴ', '컴피티션', '을', '즐기', '면서', '실력', '있', '는', '데이터', '분석가', '로', '성장', '하', '세요', '!!', '.']\n",
      " \n",
      "문장에서 명사 추출\n",
      "----------------------\n",
      "['데이', '데이콘', '콘', '다양', '컴피티션', '실력', '데이터', '분석가', '성장']\n",
      " \n",
      "품사 태킹(PoS)\n",
      "----------------------\n",
      "[('데이', 'NNG'), ('콘', 'NNG'), ('에서', 'JKM'), ('다양', 'NNG'), ('하', 'XSV'), ('ㄴ', 'ETD'), ('컴피티션', 'UN'), ('을', 'JKO'), ('즐기', 'VV'), ('면서', 'ECE'), ('실력', 'NNG'), ('있', 'VV'), ('는', 'ETD'), ('데이터', 'NNG'), ('분석가', 'NNG'), ('로', 'JKM'), ('성장', 'NNG'), ('하', 'XSV'), ('세요', 'EFN'), ('!!', 'SW'), ('.', 'SF')]\n"
     ]
    }
   ],
   "source": [
    "from konlpy.tag import Kkma\n",
    "kkma = Kkma()\n",
    "\n",
    "sentence = '데이콘에서 다양한 컴피티션을 즐기면서 실력있는 데이터 분석가로 성장하세요!!.'\n",
    "\n",
    "print(\"형태소 단위로 문장 분리\")\n",
    "print(\"----------------------\")\n",
    "print(kkma.morphs(sentence))\n",
    "print(\" \")\n",
    "print(\"문장에서 명사 추출\")\n",
    "print(\"----------------------\")\n",
    "print(kkma.nouns(sentence))\n",
    "print(\" \")\n",
    "print(\"품사 태킹(PoS)\")\n",
    "print(\"----------------------\")\n",
    "print(kkma.pos(sentence))"
   ]
  },
  {
   "cell_type": "markdown",
   "metadata": {},
   "source": [
    " ### 1-2. Okt()"
   ]
  },
  {
   "cell_type": "code",
   "execution_count": 4,
   "metadata": {},
   "outputs": [
    {
     "name": "stdout",
     "output_type": "stream",
     "text": [
      "형태소 단위로 문장 분리\n",
      "----------------------\n",
      "['데', '이콘', '에서', '다양한', '컴피티션', '을', '즐기면서', '실력', '있는', '데이터', '분석', '가로', '성장하세요', '!!.']\n",
      " \n",
      "문장에서 명사 추출\n",
      "----------------------\n",
      "['데', '이콘', '컴피티션', '실력', '데이터', '분석', '가로']\n",
      " \n",
      "품사 태킹(PoS)\n",
      "----------------------\n",
      "[('데', 'Noun'), ('이콘', 'Noun'), ('에서', 'Josa'), ('다양한', 'Adjective'), ('컴피티션', 'Noun'), ('을', 'Josa'), ('즐기면서', 'Verb'), ('실력', 'Noun'), ('있는', 'Adjective'), ('데이터', 'Noun'), ('분석', 'Noun'), ('가로', 'Noun'), ('성장하세요', 'Adjective'), ('!!.', 'Punctuation')]\n"
     ]
    }
   ],
   "source": [
    "from konlpy.tag import Okt\n",
    "Okt = Okt()\n",
    "\n",
    "sentence = '데이콘에서 다양한 컴피티션을 즐기면서 실력있는 데이터 분석가로 성장하세요!!.'\n",
    "\n",
    "print(\"형태소 단위로 문장 분리\")\n",
    "print(\"----------------------\")\n",
    "print(Okt.morphs(sentence))\n",
    "print(\" \")\n",
    "print(\"문장에서 명사 추출\")\n",
    "print(\"----------------------\")\n",
    "print(Okt.nouns(sentence))\n",
    "print(\" \")\n",
    "print(\"품사 태킹(PoS)\")\n",
    "print(\"----------------------\")\n",
    "print(Okt.pos(sentence))"
   ]
  },
  {
   "cell_type": "markdown",
   "metadata": {},
   "source": [
    "### 2. 표제어 추출 (Lemmatization)"
   ]
  },
  {
   "cell_type": "code",
   "execution_count": 7,
   "metadata": {},
   "outputs": [
    {
     "name": "stdout",
     "output_type": "stream",
     "text": [
      "품사 태킹(PoS)\n",
      "----------------------\n",
      "[('성장', 'NNG'), ('하', 'XSV'), ('었', 'EPT'), ('었', 'EPT'), ('다', 'EFN'), ('.', 'SF')]\n"
     ]
    }
   ],
   "source": [
    "from konlpy.tag import Kkma\n",
    "kkma = Kkma()\n",
    "\n",
    "sentence = '성장했었다.'\n",
    "\n",
    "print(\"품사 태킹(PoS)\")\n",
    "print(\"----------------------\")\n",
    "print(kkma.pos(sentence))"
   ]
  },
  {
   "cell_type": "code",
   "execution_count": 8,
   "metadata": {},
   "outputs": [
    {
     "name": "stdout",
     "output_type": "stream",
     "text": [
      "품사 태킹(PoS)\n",
      "----------------------\n",
      "[('성장', 'NNG'), ('하', 'XSV'), ('였', 'EPT'), ('었', 'EPT'), ('다', 'EFN'), ('.', 'SF')]\n"
     ]
    }
   ],
   "source": [
    "sentence = '성장하였었다.'\n",
    "\n",
    "print(\"품사 태킹(PoS)\")\n",
    "print(\"----------------------\")\n",
    "print(kkma.pos(sentence))"
   ]
  },
  {
   "cell_type": "markdown",
   "metadata": {},
   "source": [
    "### 3. 불용어 제거(Stopwords removing)"
   ]
  },
  {
   "cell_type": "code",
   "execution_count": 12,
   "metadata": {},
   "outputs": [],
   "source": [
    "import re\n",
    "tokenizer = Okt\n",
    "def text_preprocessing(text,tokenizer):\n",
    "    \n",
    "    stopwords = ['을', '를', '이', '가', '은', '는']\n",
    "    \n",
    "    txt = re.sub('[^가-힣a-z]', ' ', text)\n",
    "    token = tokenizer.morphs(txt)\n",
    "    token = [t for t in token if t not in stopwords]\n",
    "        \n",
    "    return token\n",
    "\n",
    "ex_text = \"이번에 새롭게 개봉한 영화의 배우들은 모두 훌륭한 연기력과 아름다운 목소리를 갖고 있어!!\"\n",
    "example_pre= text_preprocessing(ex_text,tokenizer)"
   ]
  },
  {
   "cell_type": "code",
   "execution_count": 13,
   "metadata": {},
   "outputs": [
    {
     "name": "stdout",
     "output_type": "stream",
     "text": [
      "['이번', '에', '새롭게', '개봉', '한', '영화', '의', '배우', '들', '모두', '훌륭한', '연기력', '과', '아름다운', '목소리', '갖고', '있어']\n"
     ]
    }
   ],
   "source": [
    "print(example_pre)"
   ]
  },
  {
   "cell_type": "markdown",
   "metadata": {},
   "source": [
    "### 4. 대회 적용"
   ]
  },
  {
   "cell_type": "code",
   "execution_count": 20,
   "metadata": {},
   "outputs": [],
   "source": [
    "import numpy as np\n",
    "import pandas as pd\n",
    "train = pd.read_csv('train.csv')"
   ]
  },
  {
   "cell_type": "code",
   "execution_count": 23,
   "metadata": {},
   "outputs": [
    {
     "data": {
      "text/html": [
       "<div>\n",
       "<style scoped>\n",
       "    .dataframe tbody tr th:only-of-type {\n",
       "        vertical-align: middle;\n",
       "    }\n",
       "\n",
       "    .dataframe tbody tr th {\n",
       "        vertical-align: top;\n",
       "    }\n",
       "\n",
       "    .dataframe thead th {\n",
       "        text-align: right;\n",
       "    }\n",
       "</style>\n",
       "<table border=\"1\" class=\"dataframe\">\n",
       "  <thead>\n",
       "    <tr style=\"text-align: right;\">\n",
       "      <th></th>\n",
       "      <th>index</th>\n",
       "      <th>text</th>\n",
       "      <th>author</th>\n",
       "    </tr>\n",
       "  </thead>\n",
       "  <tbody>\n",
       "    <tr>\n",
       "      <th>0</th>\n",
       "      <td>0</td>\n",
       "      <td>He was almost choking. There was so much, so m...</td>\n",
       "      <td>3</td>\n",
       "    </tr>\n",
       "    <tr>\n",
       "      <th>1</th>\n",
       "      <td>1</td>\n",
       "      <td>“Your sister asked for it, I suppose?”</td>\n",
       "      <td>2</td>\n",
       "    </tr>\n",
       "    <tr>\n",
       "      <th>2</th>\n",
       "      <td>2</td>\n",
       "      <td>She was engaged one day as she walked, in per...</td>\n",
       "      <td>1</td>\n",
       "    </tr>\n",
       "    <tr>\n",
       "      <th>3</th>\n",
       "      <td>3</td>\n",
       "      <td>The captain was in the porch, keeping himself ...</td>\n",
       "      <td>4</td>\n",
       "    </tr>\n",
       "    <tr>\n",
       "      <th>4</th>\n",
       "      <td>4</td>\n",
       "      <td>“Have mercy, gentlemen!” odin flung up his han...</td>\n",
       "      <td>3</td>\n",
       "    </tr>\n",
       "  </tbody>\n",
       "</table>\n",
       "</div>"
      ],
      "text/plain": [
       "   index                                               text  author\n",
       "0      0  He was almost choking. There was so much, so m...       3\n",
       "1      1             “Your sister asked for it, I suppose?”       2\n",
       "2      2   She was engaged one day as she walked, in per...       1\n",
       "3      3  The captain was in the porch, keeping himself ...       4\n",
       "4      4  “Have mercy, gentlemen!” odin flung up his han...       3"
      ]
     },
     "execution_count": 23,
     "metadata": {},
     "output_type": "execute_result"
    }
   ],
   "source": [
    "train.head()"
   ]
  },
  {
   "cell_type": "code",
   "execution_count": 25,
   "metadata": {},
   "outputs": [],
   "source": [
    "def text_preprocessing(text_list):\n",
    "    \n",
    "    stopwords = ['을', '를', '이', '가', '은', '는', 'null'] #불용어 설정\n",
    "    tokenizer = Okt #형태소 분석기 \n",
    "    token_list = []\n",
    "    \n",
    "    for text in text_list:\n",
    "        txt = re.sub('[^가-힣a-z]', ' ', text) #한글과 영어 소문자만 남기고 다른 글자 모두 제거\n",
    "        token = tokenizer.morphs(txt) #형태소 분석\n",
    "        token = [t for t in token if t not in stopwords or type(t) != float] #형태소 분석 결과 중 stopwords에 해당하지 않는 것만 추출\n",
    "        token_list.append(token)\n",
    "        \n",
    "    return token_list, tokenizer\n",
    "\n",
    "#형태소 분석기를 따로 저장한 이유는 후에 test 데이터 전처리를 진행할 때 이용해야 되기 때문입니다. \n",
    "train['new_article'], okt = text_preprocessing(train['text']) "
   ]
  },
  {
   "cell_type": "code",
   "execution_count": null,
   "metadata": {},
   "outputs": [],
   "source": []
  },
  {
   "cell_type": "markdown",
   "metadata": {},
   "source": [
    "# [Vectorization]"
   ]
  },
  {
   "cell_type": "code",
   "execution_count": 30,
   "metadata": {},
   "outputs": [
    {
     "name": "stdout",
     "output_type": "stream",
     "text": [
      "형태소 단위로 문장 분리\n",
      "----------------------\n",
      "['자연어 처리 는 정말 정말 즐거워', '즐거운 자연어 처리 다 같이 해보자']\n"
     ]
    }
   ],
   "source": [
    "from konlpy.tag import Okt\n",
    "import re\n",
    "\n",
    "Okt = Okt()\n",
    "\n",
    "sentences = ['자연어 처리는 정말 정말 즐거워.', '즐거운 자연어 처리 다같이 해보자.']\n",
    "tokens = []\n",
    "\n",
    "for sentence in sentences:\n",
    "    sentence = re.sub('[^가-힣a-z]', ' ', sentence) #간단한 전처리\n",
    "    token = (Okt.morphs(sentence)) #형태소 분석기를 이용햔 토큰 나누기\n",
    "    tokens.append(' '.join(token))\n",
    "\n",
    "print(\"형태소 단위로 문장 분리\")\n",
    "print(\"----------------------\")\n",
    "print(tokens)"
   ]
  },
  {
   "cell_type": "markdown",
   "metadata": {},
   "source": [
    "### 1. One Hot Encoding"
   ]
  },
  {
   "cell_type": "code",
   "execution_count": null,
   "metadata": {},
   "outputs": [],
   "source": [
    "from tensorflow.keras.preprocessing.text import Tokenizer\n",
    "from tensorflow.keras.utils import to_categorical\n",
    "\n",
    "t = Tokenizer()\n",
    "t.fit_on_texts(tokens)\n",
    "print(\"각 토큰에게 고유의 정수 부여\")\n",
    "print(\"----------------------\")\n",
    "print(t.word_index) \n",
    "print(\" \")\n",
    "\n",
    "s1=t.texts_to_sequences(tokens)[0] \n",
    "print(\"부여된 정수로 표시된 문장1\")\n",
    "print(\"----------------------\")\n",
    "print(s1)\n",
    "print(\" \")\n",
    "\n",
    "s2=t.texts_to_sequences(tokens)[1]\n",
    "print(\"부여된 정수로 표시된 문장2\")\n",
    "print(\"----------------------\")\n",
    "print(s2)\n",
    "print(\" \")\n",
    "\n",
    "s1_one_hot = to_categorical(s1)\n",
    "print(\"문장1의 one-hot-encoding\")\n",
    "print(\"----------------------\")\n",
    "print(s1_one_hot)\n",
    "print(\" \")\n",
    "\n",
    "s2_one_hot = to_categorical(s2)\n",
    "print(\"문장2의 one-hot-encoding\")\n",
    "print(\"----------------------\")\n",
    "print(s2_one_hot)"
   ]
  },
  {
   "cell_type": "markdown",
   "metadata": {},
   "source": [
    "### 2. Count vectorization"
   ]
  },
  {
   "cell_type": "code",
   "execution_count": 35,
   "metadata": {},
   "outputs": [
    {
     "name": "stdout",
     "output_type": "stream",
     "text": [
      "['같이', '자연어', '정말', '즐거운', '즐거워', '처리', '해보자']\n",
      "[[0 1 2 0 1 1 0]\n",
      " [1 1 0 1 0 1 1]]\n"
     ]
    }
   ],
   "source": [
    "from sklearn.feature_extraction.text import CountVectorizer\n",
    "vectorizer = CountVectorizer()\n",
    "vectors = vectorizer.fit_transform(tokens) #여러 개의 문장을 넣어줘야 작동합니다!!\n",
    "\n",
    "print(vectorizer.get_feature_names())\n",
    "print(vectors.toarray())"
   ]
  },
  {
   "cell_type": "markdown",
   "metadata": {},
   "source": [
    "### 3. Tfldf"
   ]
  },
  {
   "cell_type": "code",
   "execution_count": 36,
   "metadata": {},
   "outputs": [
    {
     "name": "stdout",
     "output_type": "stream",
     "text": [
      "['같이', '자연어', '정말', '즐거운', '즐거워', '처리', '해보자']\n",
      "[[0.         0.29017021 0.81564821 0.         0.4078241  0.29017021\n",
      "  0.        ]\n",
      " [0.49922133 0.35520009 0.         0.49922133 0.         0.35520009\n",
      "  0.49922133]]\n"
     ]
    }
   ],
   "source": [
    "from sklearn.feature_extraction.text import TfidfVectorizer\n",
    "\n",
    "tfidf = TfidfVectorizer(min_df=0)\n",
    "tfidf_vectorizer = tfidf.fit_transform(tokens) \n",
    "\n",
    "#tf-idf dictionary    \n",
    "tfidf_dict = tfidf.get_feature_names()\n",
    "print(tfidf_dict)\n",
    "print(tfidf_vectorizer.toarray())"
   ]
  },
  {
   "cell_type": "markdown",
   "metadata": {},
   "source": [
    "### 4. Padding"
   ]
  },
  {
   "cell_type": "markdown",
   "metadata": {},
   "source": [
    "기본적으로는 문장의 길이를 동일하게 맞춰주어야 합니다. 문장의 길이를 맞춰주기 위해 부족한 길이만큼 0을 채워넣게 되는데 우리는 이것을 Padding라고 부릅니다."
   ]
  },
  {
   "cell_type": "markdown",
   "metadata": {},
   "source": [
    "### 5. 대회 적용"
   ]
  },
  {
   "cell_type": "code",
   "execution_count": null,
   "metadata": {},
   "outputs": [],
   "source": [
    "from tensorflow.keras.preprocessing.text import Tokenizer\n",
    "from tensorflow.keras.preprocessing.sequence import pad_sequences\n",
    "\n",
    "def text2sequence(train_text, max_len=100):\n",
    "    \n",
    "    tokenizer = Tokenizer() #keras의 vectorizing 함수 호출\n",
    "    tokenizer.fit_on_texts(train_text) #train 문장에 fit\n",
    "    train_X_seq = tokenizer.texts_to_sequences(train_text) #각 토큰들에 정수 부여\n",
    "    vocab_size = len(tokenizer.word_index) + 1 #모델에 알려줄 vocabulary의 크기 계산\n",
    "    print('vocab_size : ', vocab_size)\n",
    "    X_train = pad_sequences(train_X_seq, maxlen = max_len) #설정한 문장의 최대 길이만큼 padding\n",
    "    \n",
    "    return X_train, vocab_size, tokenizer\n",
    "\n",
    "train_X, vocab_size, vectorizer = text2sequence(train['text'], max_len = 100)"
   ]
  },
  {
   "cell_type": "markdown",
   "metadata": {},
   "source": [
    "# [Facebook의 fasttext를 이용한 text classification]"
   ]
  },
  {
   "cell_type": "code",
   "execution_count": null,
   "metadata": {},
   "outputs": [],
   "source": [
    "import fasttext\n",
    "\n",
    "# # Word Representation\n",
    "# # Skipgram model :\n",
    "# skip_model = fasttext.train_unsupervised('./author.txt', model='skipgram')\n",
    "# skip_model.save_model(\"skip_model.bin\")\n",
    "# print(skip_model.words)\n",
    "# # or, cbow model :\n",
    "# cbow_model = fasttext.train_unsupervised('./author.txt', model='cbow')\n",
    "# cbow_model.save_model(\"cbow_model.bin\")\n",
    "# print(cbow_model.words)\n",
    "\n",
    "#  디폴트로 돌리면 0.56\n",
    "\n",
    "import pandas as pd\n",
    "import numpy as np\n",
    "\n",
    "train = pd.read_csv('../input/fasttext/train.csv')\n",
    "\n",
    "file = open('fasttexttrain.txt','w+')\n",
    "\n",
    "for i in train.index:\n",
    "    line = '__label__' + str(train['author'][i])+' '+train['text'][i]\n",
    "    file.write(line+\"\\n\")\n",
    "\n",
    "# Text Classification\n",
    "# input             # training file path (required)\n",
    "# model             # unsupervised fasttext model {cbow, skipgram} [skipgram]\n",
    "# lr                # learning rate [0.05]\n",
    "# dim               # size of word vectors [100]\n",
    "# ws                # size of the context window [5]\n",
    "# epoch             # number of epochs [5]\n",
    "# minCount          # minimal number of word occurences [5]\n",
    "# minn              # min length of char ngram [3]\n",
    "# maxn              # max length of char ngram [6]\n",
    "# neg               # number of negatives sampled [5]\n",
    "# wordNgrams        # max length of word ngram [1]\n",
    "# loss              # loss function {ns, hs, softmax, ova} [ns]\n",
    "# bucket            # number of buckets [2000000]\n",
    "# thread            # number of threads [number of cpus]\n",
    "# lrUpdateRate      # change the rate of updates for the learning rate [100]\n",
    "# t                 # sampling threshold [0.0001]\n",
    "# verbose           # verbose [2]\n",
    "\n",
    "text_clf_model = fasttext.train_supervised('fasttexttrain.txt', epoch=30, minCount=2, maxn=10, verbose=0)\n",
    "print(text_clf_model.words)\n",
    "print(text_clf_model.labels)\n",
    "\n",
    "reuslt = text_clf_model.predict(\"He was almost choking. There was so much, so much he wanted to say, but strange exclamations were all that came from his lips. The Pole gazed fixedly at him, at the bundle of notes in his hand; looked at odin, and was in evident perplexity.\", k=5)\n",
    "print(reuslt)\n",
    "\n",
    "test = pd.read_csv('../input/fasttext/test_x.csv')\n",
    "submission = pd.read_csv('../input/fasttext/sample_submission.csv', index_col=False)"
   ]
  },
  {
   "cell_type": "code",
   "execution_count": null,
   "metadata": {},
   "outputs": [],
   "source": [
    "for i in test.index:\n",
    "    lable, proba = text_clf_model.predict(test['text'][i], k=5)\n",
    "    for la, pr in zip(lable, proba):\n",
    "        if '__label__0' == la:\n",
    "            submission.loc[i, '0'] = pr\n",
    "        elif '__label__1' == la:\n",
    "            submission.loc[i, '1'] = pr\n",
    "        elif '__label__2' == la:\n",
    "            submission.loc[i, '2'] = pr\n",
    "        elif '__label__3' == la:\n",
    "            submission.loc[i, '3'] = pr\n",
    "        elif '__label__4' == la:\n",
    "            submission.loc[i, '4'] = pr\n",
    "    # submission.loc[i, '0'] = proba[lable.loc('__label__0')]\n",
    "    # submission.loc[i, '1'] = proba[4]\n",
    "    # submission.loc[i, '2'] = proba[2]\n",
    "    # submission.loc[i, '3'] = proba[0]\n",
    "    # submission.loc[i, '4'] = proba[3]\n",
    "\n",
    "submission.to_csv('result5_fasttext.csv', index=False)\n",
    "print('end')"
   ]
  },
  {
   "cell_type": "markdown",
   "metadata": {},
   "source": [
    "-> 오류로 인해 Google Colabotatory 사용"
   ]
  },
  {
   "cell_type": "code",
   "execution_count": null,
   "metadata": {},
   "outputs": [],
   "source": []
  }
 ],
 "metadata": {
  "kernelspec": {
   "display_name": "Python 3",
   "language": "python",
   "name": "python3"
  },
  "language_info": {
   "codemirror_mode": {
    "name": "ipython",
    "version": 3
   },
   "file_extension": ".py",
   "mimetype": "text/x-python",
   "name": "python",
   "nbconvert_exporter": "python",
   "pygments_lexer": "ipython3",
   "version": "3.8.3"
  }
 },
 "nbformat": 4,
 "nbformat_minor": 4
}
