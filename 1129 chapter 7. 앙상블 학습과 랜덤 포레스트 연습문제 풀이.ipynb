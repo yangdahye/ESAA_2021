{
 "cells": [
  {
   "cell_type": "markdown",
   "metadata": {},
   "source": [
    "### 1. 개개의 분류기와 비교해서 직접 투표 분류기, 간접 투표 분류기의 성능이 얼마나 향상되나요?"
   ]
  },
  {
   "cell_type": "markdown",
   "metadata": {
    "id": "Xqp6uVZxd1nG"
   },
   "source": [
    "### 1-a. MNIST 데이터를 훈련, 검증, 테스트 데이터로 나눈다.  ( 훈련 : 40,000 / 검증 : 10,000 / 테스트 : 10,000 ) "
   ]
  },
  {
   "cell_type": "code",
   "execution_count": 1,
   "metadata": {
    "id": "nWSuFaW2dxtB"
   },
   "outputs": [],
   "source": [
    "from sklearn.datasets import fetch_openml\n",
    "mnist = fetch_openml('mnist_784',version=1)"
   ]
  },
  {
   "cell_type": "code",
   "execution_count": 2,
   "metadata": {
    "id": "9LMBXHtpkteY"
   },
   "outputs": [],
   "source": [
    "from sklearn.model_selection import train_test_split\n",
    "\n",
    "X_train_val, X_test, y_train_val, y_test = train_test_split(mnist.data, mnist.target, test_size=10000, random_state=42)\n",
    "X_train, X_val, y_train, y_val = train_test_split(X_train_val, y_train_val, test_size=10000, random_state=42)"
   ]
  },
  {
   "cell_type": "markdown",
   "metadata": {
    "id": "Ujrp1oT-lImI"
   },
   "source": [
    "### 1-b. 랜덤 포레스트 분류기, 엑스트라 트리 분류기, SVM 분류기, MLP 분류기를 훈련시킨다. (n_estimators=100, random_state=42)"
   ]
  },
  {
   "cell_type": "code",
   "execution_count": 4,
   "metadata": {
    "id": "Pq4BoCyiktdQ"
   },
   "outputs": [],
   "source": [
    "from sklearn.ensemble import RandomForestClassifier, ExtraTreesClassifier\n",
    "from sklearn.svm import LinearSVC\n",
    "from sklearn.neural_network import MLPClassifier"
   ]
  },
  {
   "cell_type": "code",
   "execution_count": 5,
   "metadata": {},
   "outputs": [],
   "source": [
    "random_forest_clf = RandomForestClassifier(n_estimators=100, random_state=42)\n",
    "extra_trees_clf = ExtraTreesClassifier(n_estimators=100, random_state=42)\n",
    "svm_clf = LinearSVC(max_iter=100, tol=20, random_state=42)\n",
    "mlp_clf = MLPClassifier(random_state=42)"
   ]
  },
  {
   "cell_type": "code",
   "execution_count": 6,
   "metadata": {
    "colab": {
     "base_uri": "https://localhost:8080/"
    },
    "executionInfo": {
     "elapsed": 231307,
     "status": "ok",
     "timestamp": 1630086634091,
     "user": {
      "displayName": "­박선영(자연과학대학 통계학과)",
      "photoUrl": "https://lh3.googleusercontent.com/a-/AOh14Gi7zQoKwaP0mFoZhbCYcWVMh3WtCwTwPNkboDzs=s64",
      "userId": "16232586544257312915"
     },
     "user_tz": -540
    },
    "id": "qvnGSyiAnpWa",
    "outputId": "485daaa7-9cd7-4972-e105-2956adeab390"
   },
   "outputs": [
    {
     "name": "stdout",
     "output_type": "stream",
     "text": [
      "Training the RandomForestClassifier(random_state=42)\n",
      "Training the ExtraTreesClassifier(random_state=42)\n",
      "Training the LinearSVC(max_iter=100, random_state=42, tol=20)\n",
      "Training the MLPClassifier(random_state=42)\n"
     ]
    }
   ],
   "source": [
    "estimators = [random_forest_clf, extra_trees_clf, svm_clf, mlp_clf]\n",
    "for estimator in estimators:\n",
    "  print(\"Training the\", estimator)\n",
    "  estimator.fit(X_train, y_train)"
   ]
  },
  {
   "cell_type": "code",
   "execution_count": 7,
   "metadata": {
    "colab": {
     "base_uri": "https://localhost:8080/"
    },
    "executionInfo": {
     "elapsed": 1646,
     "status": "ok",
     "timestamp": 1630086775397,
     "user": {
      "displayName": "­박선영(자연과학대학 통계학과)",
      "photoUrl": "https://lh3.googleusercontent.com/a-/AOh14Gi7zQoKwaP0mFoZhbCYcWVMh3WtCwTwPNkboDzs=s64",
      "userId": "16232586544257312915"
     },
     "user_tz": -540
    },
    "id": "HA6-0plvnpVE",
    "outputId": "efcd4736-4895-4726-a511-6b21be93bfe4"
   },
   "outputs": [
    {
     "data": {
      "text/plain": [
       "[0.9692, 0.9715, 0.859, 0.9606]"
      ]
     },
     "execution_count": 7,
     "metadata": {},
     "output_type": "execute_result"
    }
   ],
   "source": [
    "[estimator.score(X_val, y_val) for estimator in estimators] # 선형 SVM이 다른 분류기보다 성능이 많이 떨어진다."
   ]
  },
  {
   "cell_type": "markdown",
   "metadata": {
    "id": "UI2qPZpDn1Dp"
   },
   "source": [
    "### 1-c. 이들을 직접 투표 분류기를 사용하는 앙상블로 연결한다."
   ]
  },
  {
   "cell_type": "code",
   "execution_count": 8,
   "metadata": {
    "colab": {
     "base_uri": "https://localhost:8080/"
    },
    "executionInfo": {
     "elapsed": 230395,
     "status": "ok",
     "timestamp": 1630087012393,
     "user": {
      "displayName": "­박선영(자연과학대학 통계학과)",
      "photoUrl": "https://lh3.googleusercontent.com/a-/AOh14Gi7zQoKwaP0mFoZhbCYcWVMh3WtCwTwPNkboDzs=s64",
      "userId": "16232586544257312915"
     },
     "user_tz": -540
    },
    "id": "lcTyQdLYoRCn",
    "outputId": "cf947265-ee8a-4398-8228-f8d4fedd72b8"
   },
   "outputs": [],
   "source": [
    "from sklearn.ensemble import VotingClassifier"
   ]
  },
  {
   "cell_type": "code",
   "execution_count": 9,
   "metadata": {},
   "outputs": [],
   "source": [
    "named_estimators = [\n",
    "    (\"random_forest_clf\", random_forest_clf),\n",
    "    (\"extra_trees_clf\", extra_trees_clf),\n",
    "    (\"svm_clf\", svm_clf),\n",
    "    (\"mlp_clf\", mlp_clf),\n",
    "]"
   ]
  },
  {
   "cell_type": "code",
   "execution_count": 10,
   "metadata": {},
   "outputs": [],
   "source": [
    "voting_clf = VotingClassifier(named_estimators)"
   ]
  },
  {
   "cell_type": "code",
   "execution_count": 11,
   "metadata": {},
   "outputs": [
    {
     "data": {
      "text/plain": [
       "VotingClassifier(estimators=[('random_forest_clf',\n",
       "                              RandomForestClassifier(random_state=42)),\n",
       "                             ('extra_trees_clf',\n",
       "                              ExtraTreesClassifier(random_state=42)),\n",
       "                             ('svm_clf',\n",
       "                              LinearSVC(max_iter=100, random_state=42, tol=20)),\n",
       "                             ('mlp_clf', MLPClassifier(random_state=42))])"
      ]
     },
     "execution_count": 11,
     "metadata": {},
     "output_type": "execute_result"
    }
   ],
   "source": [
    "voting_clf.fit(X_train, y_train)"
   ]
  },
  {
   "cell_type": "code",
   "execution_count": 12,
   "metadata": {
    "colab": {
     "base_uri": "https://localhost:8080/"
    },
    "executionInfo": {
     "elapsed": 1869,
     "status": "ok",
     "timestamp": 1630088384040,
     "user": {
      "displayName": "­박선영(자연과학대학 통계학과)",
      "photoUrl": "https://lh3.googleusercontent.com/a-/AOh14Gi7zQoKwaP0mFoZhbCYcWVMh3WtCwTwPNkboDzs=s64",
      "userId": "16232586544257312915"
     },
     "user_tz": -540
    },
    "id": "JaJ1xGottbnp",
    "outputId": "8e410d1a-46a2-48ff-8f82-7f13d9dfe140"
   },
   "outputs": [
    {
     "data": {
      "text/plain": [
       "0.97"
      ]
     },
     "execution_count": 12,
     "metadata": {},
     "output_type": "execute_result"
    }
   ],
   "source": [
    "voting_clf.score(X_val, y_val)"
   ]
  },
  {
   "cell_type": "markdown",
   "metadata": {
    "id": "5XaWFdAJ2CZ2"
   },
   "source": [
    "### 1-d. 다른 분류기보다 성능이 많이 떨어졌던 선형 SVM 제거 후 VotingClassifier를 다시 평가"
   ]
  },
  {
   "cell_type": "code",
   "execution_count": 14,
   "metadata": {
    "id": "TU_J0j4O2Kw-"
   },
   "outputs": [],
   "source": [
    "voting_clf.set_params(svm_clf=None)\n",
    "del voting_clf.estimators_[2]"
   ]
  },
  {
   "cell_type": "code",
   "execution_count": 15,
   "metadata": {},
   "outputs": [
    {
     "data": {
      "text/plain": [
       "0.9737"
      ]
     },
     "execution_count": 15,
     "metadata": {},
     "output_type": "execute_result"
    }
   ],
   "source": [
    "voting_clf.score(X_val, y_val)"
   ]
  },
  {
   "cell_type": "markdown",
   "metadata": {
    "id": "8qYEEuAvsGho"
   },
   "source": [
    "### 1-e. 간접 투표 분류기를 사용하여 앙상블로 연결."
   ]
  },
  {
   "cell_type": "code",
   "execution_count": 16,
   "metadata": {
    "colab": {
     "base_uri": "https://localhost:8080/"
    },
    "executionInfo": {
     "elapsed": 1439,
     "status": "ok",
     "timestamp": 1630088574789,
     "user": {
      "displayName": "­박선영(자연과학대학 통계학과)",
      "photoUrl": "https://lh3.googleusercontent.com/a-/AOh14Gi7zQoKwaP0mFoZhbCYcWVMh3WtCwTwPNkboDzs=s64",
      "userId": "16232586544257312915"
     },
     "user_tz": -540
    },
    "id": "T74JWjKBoxQf",
    "outputId": "1c9a7026-f353-4351-9d2d-4e6e69b88724"
   },
   "outputs": [
    {
     "data": {
      "text/plain": [
       "0.97"
      ]
     },
     "execution_count": 16,
     "metadata": {},
     "output_type": "execute_result"
    }
   ],
   "source": [
    "voting_clf.voting = \"soft\"\n",
    "voting_clf.score(X_val, y_val)"
   ]
  }
 ],
 "metadata": {
  "colab": {
   "authorship_tag": "ABX9TyNlBziiBKIp5T7q19V8J9gR",
   "name": "앙상블.ipynb",
   "provenance": []
  },
  "kernelspec": {
   "display_name": "Python 3",
   "language": "python",
   "name": "python3"
  },
  "language_info": {
   "codemirror_mode": {
    "name": "ipython",
    "version": 3
   },
   "file_extension": ".py",
   "mimetype": "text/x-python",
   "name": "python",
   "nbconvert_exporter": "python",
   "pygments_lexer": "ipython3",
   "version": "3.8.3"
  }
 },
 "nbformat": 4,
 "nbformat_minor": 1
}
